{
 "cells": [
  {
   "cell_type": "markdown",
   "metadata": {},
   "source": [
    "Let's play tic tac toe! Our general plan is to store the state (whether there is an X, a O, or nothing) in a variable for each square."
   ]
  },
  {
   "cell_type": "code",
   "execution_count": 1,
   "metadata": {
    "collapsed": true
   },
   "outputs": [],
   "source": [
    "# define variables. I recommend some convention like:\n",
    "# upperLeft = \n",
    "#  or\n",
    "# square11 = \n",
    "# So that it's easy to keep track. \n",
    "# Set your variables to a blank string \"\" or \"_\", or something else to \n",
    "# indicate that these squares are blank.\n",
    "\n",
    "square1 = \"_\"\n",
    "square2 = \"_\"\n",
    "square3 = \"_\"\n",
    "square4 = \"_\"\n",
    "square5 = \"_\"\n",
    "square6 = \"_\"\n",
    "square7 = \"_\"\n",
    "square8 = \"_\"\n",
    "square9 = \"_\"\n",
    "\n",
    "# Read square numbers left to right\n",
    "# 1|2|3\n",
    "# 4|5|6\n",
    "# 7|8|9"
   ]
  },
  {
   "cell_type": "markdown",
   "metadata": {},
   "source": [
    "Define a function called printBoard() that prints out the current state of the \n",
    "board. It could take in the variables as parameters or not, it's your choice."
   ]
  },
  {
   "cell_type": "code",
   "execution_count": 2,
   "metadata": {
    "collapsed": false
   },
   "outputs": [
    {
     "name": "stdout",
     "output_type": "stream",
     "text": [
      "_|_|_\n",
      "_|_|_\n",
      "_|_|_\n"
     ]
    }
   ],
   "source": [
    "# Here's an example of what my board looked like:\n",
    "# x|_|_\n",
    "# _|_|_\n",
    "# x| |o\n",
    "\n",
    "# square1 = \"x\"\n",
    "# square7 = \"x\"\n",
    "# square9 = \"o\"\n",
    "\n",
    "def showCurrentBoard(): # Feel free to include parameters\n",
    "    print(\"%s|%s|%s\\n%s|%s|%s\\n%s|%s|%s\"%(square1, square2, square3, \n",
    "                                          square4, square5, square6, \n",
    "                                          square7, square8, square9))\n",
    "\n",
    "showCurrentBoard()"
   ]
  },
  {
   "cell_type": "markdown",
   "metadata": {},
   "source": [
    "Define a function called isThreeInARow(s1, s2, s3). You can assume that s1, s2, and s3 are all in the same row, column, or diagonal. This function should return a boolean (remember booleans are the conditions that are part of if statements). It should be true if all the squares are \"X\" or if they are all \"O\". Just based on these three squares"
   ]
  },
  {
   "cell_type": "code",
   "execution_count": 4,
   "metadata": {
    "collapsed": true
   },
   "outputs": [],
   "source": [
    "def isThreeInARow(sA, sB, sC):\n",
    "    allAreX = sA == \"x\" and sB == \"x\" and sC == \"x\" \n",
    "    allAreO = sA == \"o\" and sB == \"o\" and sC == \"o\" \n",
    "    return allAreX or allAreO\n",
    "    \n"
   ]
  },
  {
   "cell_type": "markdown",
   "metadata": {},
   "source": [
    "Define a function called isBoardFull(). This will also return a boolean. You can pass in all the squares as parameters or not. The function will return true if all the squares have a piece in them."
   ]
  },
  {
   "cell_type": "code",
   "execution_count": 5,
   "metadata": {
    "collapsed": true
   },
   "outputs": [],
   "source": [
    "def boardIsFull(): \n",
    "    return not(square1 == \"_\" or square2 == \"_\" or square3 == \"_\" or \n",
    "               square4 == \"_\" or square5 == \"_\" or square6 == \"_\" or \n",
    "               square7 == \"_\" or square8 == \"_\" or square9 == \"_\")\n",
    "    "
   ]
  },
  {
   "cell_type": "markdown",
   "metadata": {},
   "source": [
    "Now let's practice getting input from the user. Create one input to ask the user for what row they want to put their piece in. Create another asking for what column they want to put it in. Tell your user what values you expect them to enter. For example \n",
    "    \"Which row do you want your piece in? top/middle/bottom\".\n",
    "This helps avoid confusing problems where the person playing your game is typing \"top\" but you were expecting them to type \"upper\".\n",
    "\n",
    "Then use several (I had 9) if statements to update your square variables based on what the user input is. For now just assume it the X's turn."
   ]
  },
  {
   "cell_type": "code",
   "execution_count": 3,
   "metadata": {
    "collapsed": false
   },
   "outputs": [
    {
     "name": "stdout",
     "output_type": "stream",
     "text": [
      "Here is your Tic Tac Toe Board:\n",
      "1|2|3\n",
      "4|5|6\n",
      "7|8|9\n",
      "Which square do you want? 4\n",
      "_|_|_\n",
      "x|_|_\n",
      "_|_|_\n"
     ]
    }
   ],
   "source": [
    "print(\"Here is your Tic Tac Toe Board:\")\n",
    "print(\"1|2|3\")\n",
    "print(\"4|5|6\")\n",
    "print(\"7|8|9\")\n",
    "\n",
    "squareChoice = input(\"Which square do you want? \")\n",
    "\n",
    "if (squareChoice == \"1\"): \n",
    "    square1 = \"x\"\n",
    "if (squareChoice == \"2\"): \n",
    "    square2 = \"x\"\n",
    "if (squareChoice == \"3\"): \n",
    "    square3 = \"x\"\n",
    "if (squareChoice == \"4\"): \n",
    "    square4 = \"x\"\n",
    "if (squareChoice == \"5\"): \n",
    "    square5 = \"x\"\n",
    "if (squareChoice == \"6\"): \n",
    "    square6 = \"x\"\n",
    "if (squareChoice == \"7\"): \n",
    "    square7 = \"x\"\n",
    "if (squareChoice == \"8\"): \n",
    "    square8 = \"x\"\n",
    "if (squareChoice == \"9\"): \n",
    "    square9 = \"x\"\n",
    "\n",
    "showCurrentBoard()"
   ]
  },
  {
   "cell_type": "markdown",
   "metadata": {},
   "source": [
    "Now let's practice checking if someone has won. Think about how all the different ways one can win in tic tac toe. Use your isWinningMove function that you wrote earlier, and the \"or\" operator to test if one of these is satisfied. Save the output in a variable. "
   ]
  },
  {
   "cell_type": "code",
   "execution_count": null,
   "metadata": {
    "collapsed": true
   },
   "outputs": [],
   "source": [
    "didSomeoneWin = (\n",
    "    isThreeInARow(square1, square4, square7) or\n",
    "    isThreeInARow(square2, square5, square8) or\n",
    "    isThreeInARow(square3, square6, square9) or\n",
    "    isThreeInARow(square1, square2, square3) or\n",
    "    isThreeInARow(square4, square5, square6) or\n",
    "    isThreeInARow(square7, square8, square9) or\n",
    "    isThreeInARow(square1, square5, square9) or\n",
    "    isThreeInARow(square3, square5, square7))"
   ]
  },
  {
   "cell_type": "markdown",
   "metadata": {},
   "source": [
    "Now let's practice making a game loop. Below is a starter loop. Create a variable to store who's turn it is. Update the variable each iteration of the loop to switch who's turn it is. Maybe print out who's turn it is to verify that you're doing it right."
   ]
  },
  {
   "cell_type": "code",
   "execution_count": 10,
   "metadata": {
    "collapsed": false
   },
   "outputs": [
    {
     "name": "stdout",
     "output_type": "stream",
     "text": [
      "1\n",
      "it is currently the o's turn\n",
      "2\n",
      "it is currently the x's turn\n",
      "3\n",
      "it is currently the o's turn\n",
      "4\n",
      "it is currently the x's turn\n",
      "5\n",
      "it is currently the o's turn\n",
      "6\n",
      "it is currently the x's turn\n",
      "7\n",
      "it is currently the o's turn\n",
      "8\n",
      "it is currently the x's turn\n",
      "9\n",
      "it is currently the o's turn\n"
     ]
    }
   ],
   "source": [
    "num_turns = 1\n",
    "whoPlays = \"o\"\n",
    "\n",
    "while (num_turns <= 9):\n",
    "#   do stuff with current values  \n",
    "    print (num_turns)\n",
    "    print(\"it is currently the %s's turn\"%(whoPlays))\n",
    "    \n",
    "#   update values for next turn    \n",
    "    num_turns = num_turns + 1\n",
    "    if (whoPlays == \"o\"):\n",
    "        whoPlays = \"x\"\n",
    "    elif (whoPlays == \"x\"):\n",
    "        whoPlays = \"o\"\n"
   ]
  },
  {
   "cell_type": "markdown",
   "metadata": {},
   "source": [
    "Now we're ready to put it all together. \n",
    "\n",
    "Reset your nine squares to blank to make sure they don't still have values from practing above. \n",
    "\n",
    "Create a variable to store who's turn it is, and variable to store whether or not the game is over. \n",
    "\n",
    "Create a loop that runs so long as the game is not over.\n",
    "\n",
    "Inside this loop:\n",
    "    First, print the current state of the boad. \n",
    "\n",
    "    Then, get input from the user and update the board. \n",
    "    \n",
    "    Then, perform your test to figure out if someone has won. \n",
    "    \n",
    "    Then, make sure the board is not full. \n",
    "    \n",
    "    If someone wins, or the board is full, set whatever condition your loop is based on to false. \n",
    "    \n",
    "    Otherwise Update who's turn it is.\n",
    "   \n",
    "That should be it! Make sure to include lots of print statements to inform your user (and yourself) of what is going on. \n",
    "\n",
    "Final note: watch out for accidentally creating infinite loops. These are loops that can accidentally run forever, because the condition in them never gets set to false. If this happens, use the kernel dropdown to restart this notebook. You'll have to re-run all your cells. Another good trick is to have a turn counter and set a max number of turns, like in the practice loop above. That way you can't infinitely loop by accident. \n",
    "\n",
    "Final final note: I'm excited to help you, so don't hesitate to ask. Googling is an important skill for programmers too, so if you feel brave, you can practice that. Make sure to include python when you search for how to do something. Stackoverflow, Stackexchange, and the python documentation are good sources https://docs.python.org/3/\n",
    "\n",
    "Final final final note: HAVE FUN!!!!!!"
   ]
  },
  {
   "cell_type": "code",
   "execution_count": null,
   "metadata": {
    "collapsed": true
   },
   "outputs": [],
   "source": []
  }
 ],
 "metadata": {
  "kernelspec": {
   "display_name": "Python [default]",
   "language": "python",
   "name": "python3"
  },
  "language_info": {
   "codemirror_mode": {
    "name": "ipython",
    "version": 3
   },
   "file_extension": ".py",
   "mimetype": "text/x-python",
   "name": "python",
   "nbconvert_exporter": "python",
   "pygments_lexer": "ipython3",
   "version": "3.6.0"
  }
 },
 "nbformat": 4,
 "nbformat_minor": 2
}

{
 "cells": [
  {
   "cell_type": "markdown",
   "metadata": {},
   "source": [
    "We're going to create a little tic tac toe game. This version will only use the things we have learned so far. (Mostly) \n",
    "\n",
    "Here's a quick review of everything we should need:"
   ]
  },
  {
   "cell_type": "code",
   "execution_count": 2,
   "metadata": {
    "collapsed": true
   },
   "outputs": [],
   "source": [
    "# This is a comment, the computer will ignore this."
   ]
  },
  {
   "cell_type": "code",
   "execution_count": 3,
   "metadata": {
    "collapsed": true
   },
   "outputs": [],
   "source": [
    "# When working in a jupyter notebook (what this is), press Control (ctrl) and Enter to run a cell. \n",
    "# Press shift and enter to run a cell then automatically move to a new cell."
   ]
  },
  {
   "cell_type": "code",
   "execution_count": 21,
   "metadata": {
    "collapsed": true
   },
   "outputs": [],
   "source": [
    "# We learned about a few datatypes\n",
    "a_number = 2 # This is a number\n",
    "a_string = \"Some Text\" # This is regular text. Programmers call these strings, because they are strings of letters\n",
    "a_condition = True # True and False are called boolean values\n",
    "\n",
    "# 'a_number', 'a_string', and 'a_condition' are variables. We can put something in a variable by using '='"
   ]
  },
  {
   "cell_type": "code",
   "execution_count": 14,
   "metadata": {
    "collapsed": false
   },
   "outputs": [
    {
     "name": "stdout",
     "output_type": "stream",
     "text": [
      "This prints some thing out\n",
      "This asks the user for input: Leah loves Joe\n",
      "We can include variables in a string easily like this: Leah loves Joe\n"
     ]
    }
   ],
   "source": [
    "# We learned about two useful functions:\n",
    "print(\"This prints some thing out\")\n",
    "userInput = input(\"This asks the user for input: \")\n",
    "print(\"\"\"We can include variables in a string easily like this: %s\"\"\"%(userInput))"
   ]
  },
  {
   "cell_type": "code",
   "execution_count": 15,
   "metadata": {
    "collapsed": false
   },
   "outputs": [
    {
     "name": "stdout",
     "output_type": "stream",
     "text": [
      "True\n",
      "True\n",
      "False\n",
      "True\n",
      "True\n",
      "False\n",
      "True\n",
      "True\n"
     ]
    }
   ],
   "source": [
    "# We learned about if statements. What is inside an if statement is only run if the condition is .\n",
    "# The general syntax is:\n",
    "# if (condition):\n",
    "#     code to run\n",
    "# elif (another condition):\n",
    "#     other code to run\n",
    "# else:\n",
    "#     other other code to run\n",
    "\n",
    "# We also learned a few ways to compare:\n",
    "print(1 < 2)        # --> True   \n",
    "print(2 <= (1 + 1)) # --> True\n",
    "print(1 > 2)        # --> False\n",
    "print(2 >= (1 + 1)) # --> True\n",
    "print(1 + 1 == 2)   # --> True\n",
    "print(1 != 1)       # --> False  (Not Equal)\n",
    "print(1 == 1)       # --> True   (Equal)"
   ]
  },
  {
   "cell_type": "code",
   "execution_count": 13,
   "metadata": {
    "collapsed": false
   },
   "outputs": [
    {
     "name": "stdout",
     "output_type": "stream",
     "text": [
      "False\n",
      "True\n",
      "False\n",
      "True\n",
      "False\n"
     ]
    }
   ],
   "source": [
    "# We can use clauses like 'and', 'not', and 'or' to chain comparisions together. \n",
    "# We talked about this as logic gates, but we didn't use them in an of our code\n",
    "print(True and False) # --> False\n",
    "print(True and True) # --> True\n",
    "print(True and True and False) # --> False\n",
    "print(True or False) # --> True\n",
    "print(False or False) # --> False"
   ]
  },
  {
   "cell_type": "code",
   "execution_count": 17,
   "metadata": {
    "collapsed": false
   },
   "outputs": [
    {
     "name": "stdout",
     "output_type": "stream",
     "text": [
      "Please type a number: 100\n",
      "Please type another number: 20\n",
      "100 is greater than 20\n"
     ]
    }
   ],
   "source": [
    "# Here's a little more complicated example:\n",
    "firstNum = int(input(\"Please type a number: \")) # We didn't learn this but the function int() turns a string into a number.\n",
    "secondNum = int(input(\"Please type another number: \"))\n",
    "\n",
    "if (firstNum < secondNum):\n",
    "    print(\"\"\"%d is less than %d\"\"\"%(firstNum, secondNum))\n",
    "elif (firstNum == secondNum):\n",
    "    print(\"\"\"%d is equal to %d\"\"\"%(firstNum, secondNum))\n",
    "else:\n",
    "    print(\"\"\"%d is greater than %d\"\"\"%(firstNum, secondNum))"
   ]
  },
  {
   "cell_type": "code",
   "execution_count": 18,
   "metadata": {
    "collapsed": false
   },
   "outputs": [
    {
     "name": "stdout",
     "output_type": "stream",
     "text": [
      "Please type a number: 12\n",
      "Please type another number: 43\n",
      "Both 12 and 43 are greater than 10\n"
     ]
    }
   ],
   "source": [
    "# Here's a another complicated example:\n",
    "firstNum = int(input(\"Please type a number: \"))\n",
    "secondNum = int(input(\"Please type another number: \"))\n",
    "\n",
    "if (10 < firstNum and 10 < secondNum):\n",
    "    print(\"\"\"Both %d and %d are greater than 10\"\"\"%(firstNum, secondNum))\n",
    "elif (10 > firstNum and 10 > secondNum):\n",
    "    print(\"\"\"Both %d and %d are less than 10\"\"\"%(firstNum, secondNum))\n",
    "elif (10 == firstNum or 10 == secondNum):\n",
    "    print(\"\"\"Either %d or %d is equal to 10\"\"\"%(firstNum, secondNum))\n",
    "else:\n",
    "    print(\"\"\"One of the numbers is greater than 10, the other is less than 10\"\"\")"
   ]
  },
  {
   "cell_type": "code",
   "execution_count": 24,
   "metadata": {
    "collapsed": false
   },
   "outputs": [
    {
     "name": "stdout",
     "output_type": "stream",
     "text": [
      "1\n",
      "2\n",
      "3\n",
      "4\n",
      "5\n",
      "6\n",
      "7\n",
      "8\n",
      "9\n",
      "10\n"
     ]
    }
   ],
   "source": [
    "# We learned about while loops. The general syntax is:\n",
    "# while(condition):\n",
    "#     code to run a bunch of times\n",
    "\n",
    "# Here's one example:\n",
    "numToPrint = 1\n",
    "while (numToPrint <= 10):\n",
    "    print(numToPrint)\n",
    "    numToPrint = numToPrint + 1"
   ]
  },
  {
   "cell_type": "code",
   "execution_count": 19,
   "metadata": {
    "collapsed": false
   },
   "outputs": [
    {
     "name": "stdout",
     "output_type": "stream",
     "text": [
      "I'm going to keep asking until you type stop: hi\n",
      "I'm going to keep asking until you type stop: what\n",
      "I'm going to keep asking until you type stop: wat\n",
      "I'm going to keep asking until you type stop: sop\n",
      "I'm going to keep asking until you type stop: stp\n",
      "I'm going to keep asking until you type stop: stop\n"
     ]
    }
   ],
   "source": [
    "# Here's another example:\n",
    "userInput = \"\"\n",
    "while (userInput != \"stop\"):\n",
    "    userInput = input(\"I'm going to keep asking until you type stop: \")"
   ]
  },
  {
   "cell_type": "code",
   "execution_count": 3,
   "metadata": {
    "collapsed": false
   },
   "outputs": [
    {
     "name": "stdout",
     "output_type": "stream",
     "text": [
      "1\n",
      "4\n",
      "9\n"
     ]
    }
   ],
   "source": [
    "# Finally, we learned how to write functions. The general syntax is\n",
    "# def functionName(parameters)\n",
    "#     code\n",
    "# We use these for code we use more than once. \n",
    "\n",
    "# square function:\n",
    "def square(x):\n",
    "    print(x*x)\n",
    "\n",
    "square(1)\n",
    "square(2)\n",
    "square(3)"
   ]
  },
  {
   "cell_type": "code",
   "execution_count": 2,
   "metadata": {
    "collapsed": false
   },
   "outputs": [
    {
     "name": "stdout",
     "output_type": "stream",
     "text": [
      "3\n",
      "5\n"
     ]
    }
   ],
   "source": [
    "# Functions can use variables that are not parameters.\n",
    "\n",
    "# EXAMPLE 1\n",
    "# y = 2\n",
    "# def xPlusY(x):\n",
    "#     print(x + y)\n",
    "    \n",
    "# xPlusY(1)\n",
    "# xPlusY(3)\n",
    "\n",
    "# EXAMPLE 2\n",
    "# x = 1\n",
    "# y = 2\n",
    "# def xPlusY():\n",
    "#     print(x + y)\n",
    "    \n",
    "# xPlusY()\n",
    "# x = 3\n",
    "# xPlusY()\n",
    "\n",
    "# EXAMPLE 3\n",
    "def xPlusY(x, y):\n",
    "    print(x + y)\n",
    "    \n",
    "xPlusY(1, 2)\n",
    "xPlusY(3, 2)"
   ]
  },
  {
   "cell_type": "code",
   "execution_count": 8,
   "metadata": {
    "collapsed": false
   },
   "outputs": [
    {
     "name": "stdout",
     "output_type": "stream",
     "text": [
      "11\n",
      "13\n"
     ]
    }
   ],
   "source": [
    "# Notice what happens when y changes. \n",
    "y = 10\n",
    "xPlusY(1)\n",
    "xPlusY(3)"
   ]
  },
  {
   "cell_type": "code",
   "execution_count": 10,
   "metadata": {
    "collapsed": false
   },
   "outputs": [
    {
     "name": "stdout",
     "output_type": "stream",
     "text": [
      "11\n",
      "13\n",
      "12\n"
     ]
    }
   ],
   "source": [
    "# defining an x does not affect the function however, because the parameter x will be prefered\n",
    "x = 2\n",
    "xPlusY(1)\n",
    "xPlusY(3)\n",
    "print(x + y)\n",
    "\n",
    "# Be careful when you write a function that uses variables that are not parameters. \n",
    "# It can get confusing to keep track of what values the non-parameter variables will have."
   ]
  },
  {
   "cell_type": "code",
   "execution_count": 13,
   "metadata": {
    "collapsed": false
   },
   "outputs": [
    {
     "name": "stdout",
     "output_type": "stream",
     "text": [
      "12\n",
      "20\n",
      "32\n",
      "24\n"
     ]
    }
   ],
   "source": [
    "# Rather than printing functions can also return a value, which can then be used. \n",
    "def xPlus2(x):\n",
    "    return x + 2\n",
    "\n",
    "def xTimes2(x):\n",
    "    return x * 2\n",
    "\n",
    "print(xPlus2(10))\n",
    "print(xTimes2(10))\n",
    "print(xPlus2(10) + xTimes2(10))\n",
    "print(xTimes2(xPlus2(10)))"
   ]
  },
  {
   "cell_type": "code",
   "execution_count": 8,
   "metadata": {
    "collapsed": false
   },
   "outputs": [
    {
     "name": "stdout",
     "output_type": "stream",
     "text": [
      "a: 5, b: 4, a+b = 9, c: 3\n",
      "a: 5, b: 4, a+b = 9, c: 6\n"
     ]
    }
   ],
   "source": [
    "# JOES NOT A GOOD TEACHER, SO WE NEED EXTRA REVIEW\n",
    "\n",
    "def showValuesAndSum(a, b):\n",
    "    print(\"a: %d, b: %d, a+b = %d, c: %d\"%(a, b, a+b, c))\n",
    "    \n",
    "c = 3\n",
    "showValuesAndSum(a=5, b=4)\n",
    "c= 6\n",
    "showValuesAndSum(a=5, b=4)"
   ]
  }
 ],
 "metadata": {
  "kernelspec": {
   "display_name": "Python [default]",
   "language": "python",
   "name": "python3"
  },
  "language_info": {
   "codemirror_mode": {
    "name": "ipython",
    "version": 3
   },
   "file_extension": ".py",
   "mimetype": "text/x-python",
   "name": "python",
   "nbconvert_exporter": "python",
   "pygments_lexer": "ipython3",
   "version": "3.6.0"
  }
 },
 "nbformat": 4,
 "nbformat_minor": 2
}

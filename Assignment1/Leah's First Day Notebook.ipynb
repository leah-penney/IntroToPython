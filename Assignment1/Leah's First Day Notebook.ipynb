{
 "cells": [
  {
   "cell_type": "code",
   "execution_count": 4,
   "metadata": {
    "collapsed": false
   },
   "outputs": [
    {
     "name": "stdout",
     "output_type": "stream",
     "text": [
      "hello world\n"
     ]
    }
   ],
   "source": [
    "print(\"hello world\")"
   ]
  },
  {
   "cell_type": "code",
   "execution_count": 14,
   "metadata": {
    "collapsed": false
   },
   "outputs": [
    {
     "name": "stdout",
     "output_type": "stream",
     "text": [
      "what is your name? joe\n",
      "hello . How are you?joe\n",
      "hello joe. How are you?\n"
     ]
    }
   ],
   "source": [
    "name = input(\"what is your name? \")\n",
    "print(\"hello . How are you?\" + name)\n",
    "print(\"\"\"hello %s. How are you?\"\"\"%(name))"
   ]
  },
  {
   "cell_type": "code",
   "execution_count": 16,
   "metadata": {
    "collapsed": false
   },
   "outputs": [
    {
     "name": "stdout",
     "output_type": "stream",
     "text": [
      "1\n",
      "4\n",
      "9\n"
     ]
    }
   ],
   "source": [
    "# x squared function\n",
    "def square(x):\n",
    "    return x * x\n",
    "\n",
    "print(square(1))\n",
    "print(square(2))\n",
    "print(square(3))"
   ]
  },
  {
   "cell_type": "code",
   "execution_count": 18,
   "metadata": {
    "collapsed": false
   },
   "outputs": [
    {
     "name": "stdout",
     "output_type": "stream",
     "text": [
      "2\n",
      "50\n",
      "80\n"
     ]
    }
   ],
   "source": [
    "# x*2 function\n",
    "def double(x):\n",
    "    return x * 2\n",
    "\n",
    "print(double(1))\n",
    "print(double(25))\n",
    "print(double(40))"
   ]
  },
  {
   "cell_type": "code",
   "execution_count": 21,
   "metadata": {
    "collapsed": false
   },
   "outputs": [
    {
     "name": "stdout",
     "output_type": "stream",
     "text": [
      "6\n",
      "6\n",
      "6\n"
     ]
    }
   ],
   "source": [
    "# boring function -- 3 * 2\n",
    "def boring():\n",
    "    output = 3 * 2\n",
    "    print(output)\n",
    "\n",
    "boring()\n",
    "boring()\n",
    "boring()"
   ]
  },
  {
   "cell_type": "code",
   "execution_count": 22,
   "metadata": {
    "collapsed": false
   },
   "outputs": [
    {
     "name": "stdout",
     "output_type": "stream",
     "text": [
      "what is your name? Leah\n",
      "hello Leah. How are you?\n",
      "what is your name? Joe\n",
      "hello Joe. How are you?\n"
     ]
    }
   ],
   "source": [
    "# What is your name? Leah\n",
    "# Hello Leah.\n",
    "# What is your name? Joe\n",
    "# Hello Joe.\n",
    "\n",
    "name = input(\"what is your name? \")\n",
    "print(\"\"\"hello %s. How are you?\"\"\"%(name))\n",
    "name = input(\"what is your name? \")\n",
    "print(\"\"\"hello %s. How are you?\"\"\"%(name))"
   ]
  },
  {
   "cell_type": "code",
   "execution_count": 23,
   "metadata": {
    "collapsed": false
   },
   "outputs": [
    {
     "name": "stdout",
     "output_type": "stream",
     "text": [
      "what is your name? Leah\n",
      "hello Leah. How are you?\n",
      "what is your name? Joe\n",
      "hello Joe. How are you?\n"
     ]
    }
   ],
   "source": [
    "def hello():\n",
    "    name = input(\"what is your name? \")\n",
    "    print(\"\"\"hello %s. How are you?\"\"\"%(name))\n",
    "    \n",
    "hello()\n",
    "hello()"
   ]
  },
  {
   "cell_type": "code",
   "execution_count": 30,
   "metadata": {
    "collapsed": false
   },
   "outputs": [
    {
     "name": "stdout",
     "output_type": "stream",
     "text": [
      "what is your name? Leah\n",
      "hello Leah. How are you?\n",
      "what is your name? Joe\n",
      "Ew Gross!!!!\n"
     ]
    }
   ],
   "source": [
    "# What is your name? Leah\n",
    "# Hello Leah.\n",
    "# What is your name? Joe\n",
    "# Ew Gross!!!!\n",
    "\n",
    "def GrossJoe():\n",
    "    name = input(\"what is your name? \")\n",
    "    if name == \"Leah\":\n",
    "        print(\"\"\"hello %s. How are you?\"\"\"%(name))\n",
    "    else:\n",
    "        print(\"Ew Gross!!!!\")\n",
    "\n",
    "GrossJoe()\n",
    "GrossJoe()\n",
    "    "
   ]
  },
  {
   "cell_type": "code",
   "execution_count": 31,
   "metadata": {
    "collapsed": false
   },
   "outputs": [
    {
     "name": "stdout",
     "output_type": "stream",
     "text": [
      "It ain't Ten!\n",
      "It ain't Ten!\n",
      "It ain't Ten!\n",
      "It's Ten!\n",
      "It ain't Ten!\n",
      "It's Ten!\n"
     ]
    }
   ],
   "source": [
    "def isXten(x):\n",
    "    if x == 10:\n",
    "        print(\"It's Ten!\")\n",
    "    else:\n",
    "        print(\"It ain't Ten!\")\n",
    "        \n",
    "isXten(4)\n",
    "isXten(2)\n",
    "isXten(3)\n",
    "isXten(10)\n",
    "isXten(1)\n",
    "isXten(10)"
   ]
  },
  {
   "cell_type": "code",
   "execution_count": 33,
   "metadata": {
    "collapsed": false
   },
   "outputs": [
    {
     "name": "stdout",
     "output_type": "stream",
     "text": [
      "2\n",
      "3\n",
      "4\n",
      "5\n",
      "6\n",
      "7\n",
      "8\n",
      "9\n",
      "10\n",
      "11\n",
      "12\n",
      "13\n",
      "14\n",
      "15\n"
     ]
    }
   ],
   "source": [
    "# Write a function that prints out all the numbers between 1 and x\n",
    "def AllTheNumbers(x):\n",
    "    numberToPrint = 2\n",
    "    while(numberToPrint < x):\n",
    "        print(numberToPrint)\n",
    "        numberToPrint = numberToPrint + 1\n",
    "\n",
    "AllTheNumbers(16)"
   ]
  },
  {
   "cell_type": "code",
   "execution_count": 35,
   "metadata": {
    "collapsed": false
   },
   "outputs": [
    {
     "name": "stdout",
     "output_type": "stream",
     "text": [
      "22\n",
      "20\n",
      "18\n",
      "16\n",
      "14\n",
      "12\n",
      "10\n",
      "8\n",
      "6\n",
      "4\n",
      "2\n",
      "0\n"
     ]
    }
   ],
   "source": [
    "# Start at x and print every number between x and 0, counting by 2s\n",
    "\n",
    "def BackwardsByTwos(x):\n",
    "    numberToPrint = x\n",
    "    while(numberToPrint >= 0):\n",
    "        print(numberToPrint)\n",
    "        numberToPrint = numberToPrint - 2\n",
    "        \n",
    "BackwardsByTwos(22)"
   ]
  },
  {
   "cell_type": "code",
   "execution_count": null,
   "metadata": {
    "collapsed": true
   },
   "outputs": [],
   "source": []
  }
 ],
 "metadata": {
  "kernelspec": {
   "display_name": "Python [default]",
   "language": "python",
   "name": "python3"
  },
  "language_info": {
   "codemirror_mode": {
    "name": "ipython",
    "version": 3
   },
   "file_extension": ".py",
   "mimetype": "text/x-python",
   "name": "python",
   "nbconvert_exporter": "python",
   "pygments_lexer": "ipython3",
   "version": "3.6.0"
  }
 },
 "nbformat": 4,
 "nbformat_minor": 2
}
